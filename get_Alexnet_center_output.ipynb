{
  "nbformat": 4,
  "nbformat_minor": 0,
  "metadata": {
    "colab": {
      "name": "get_Alexnet_center_output.ipynb",
      "provenance": [],
      "collapsed_sections": [],
      "authorship_tag": "ABX9TyMKuRuQdxnYbhdh9jz2XFiS",
      "include_colab_link": true
    },
    "kernelspec": {
      "name": "python3",
      "display_name": "Python 3"
    },
    "accelerator": "GPU",
    "widgets": {
      "application/vnd.jupyter.widget-state+json": {
        "ff9c5817fac34e7b96ecf43f747e3c3b": {
          "model_module": "@jupyter-widgets/controls",
          "model_name": "HBoxModel",
          "state": {
            "_view_name": "HBoxView",
            "_dom_classes": [],
            "_model_name": "HBoxModel",
            "_view_module": "@jupyter-widgets/controls",
            "_model_module_version": "1.5.0",
            "_view_count": null,
            "_view_module_version": "1.5.0",
            "box_style": "",
            "layout": "IPY_MODEL_611b205f6c654521a77a815cf69b16d0",
            "_model_module": "@jupyter-widgets/controls",
            "children": [
              "IPY_MODEL_b0f8b9094e514f5495045fbd7f172dec",
              "IPY_MODEL_06feef00c403491ebb295c57a6a11692"
            ]
          }
        },
        "611b205f6c654521a77a815cf69b16d0": {
          "model_module": "@jupyter-widgets/base",
          "model_name": "LayoutModel",
          "state": {
            "_view_name": "LayoutView",
            "grid_template_rows": null,
            "right": null,
            "justify_content": null,
            "_view_module": "@jupyter-widgets/base",
            "overflow": null,
            "_model_module_version": "1.2.0",
            "_view_count": null,
            "flex_flow": null,
            "width": null,
            "min_width": null,
            "border": null,
            "align_items": null,
            "bottom": null,
            "_model_module": "@jupyter-widgets/base",
            "top": null,
            "grid_column": null,
            "overflow_y": null,
            "overflow_x": null,
            "grid_auto_flow": null,
            "grid_area": null,
            "grid_template_columns": null,
            "flex": null,
            "_model_name": "LayoutModel",
            "justify_items": null,
            "grid_row": null,
            "max_height": null,
            "align_content": null,
            "visibility": null,
            "align_self": null,
            "height": null,
            "min_height": null,
            "padding": null,
            "grid_auto_rows": null,
            "grid_gap": null,
            "max_width": null,
            "order": null,
            "_view_module_version": "1.2.0",
            "grid_template_areas": null,
            "object_position": null,
            "object_fit": null,
            "grid_auto_columns": null,
            "margin": null,
            "display": null,
            "left": null
          }
        },
        "b0f8b9094e514f5495045fbd7f172dec": {
          "model_module": "@jupyter-widgets/controls",
          "model_name": "FloatProgressModel",
          "state": {
            "_view_name": "ProgressView",
            "style": "IPY_MODEL_f715dcd28806412693d76f09a6d56877",
            "_dom_classes": [],
            "description": "100%",
            "_model_name": "FloatProgressModel",
            "bar_style": "success",
            "max": 244418560,
            "_view_module": "@jupyter-widgets/controls",
            "_model_module_version": "1.5.0",
            "value": 244418560,
            "_view_count": null,
            "_view_module_version": "1.5.0",
            "orientation": "horizontal",
            "min": 0,
            "description_tooltip": null,
            "_model_module": "@jupyter-widgets/controls",
            "layout": "IPY_MODEL_a03ca7950c8d411bbf587030bef286a5"
          }
        },
        "06feef00c403491ebb295c57a6a11692": {
          "model_module": "@jupyter-widgets/controls",
          "model_name": "HTMLModel",
          "state": {
            "_view_name": "HTMLView",
            "style": "IPY_MODEL_92fff193bbd0426e94ca5ffb64e098e7",
            "_dom_classes": [],
            "description": "",
            "_model_name": "HTMLModel",
            "placeholder": "​",
            "_view_module": "@jupyter-widgets/controls",
            "_model_module_version": "1.5.0",
            "value": " 233M/233M [00:01&lt;00:00, 133MB/s]",
            "_view_count": null,
            "_view_module_version": "1.5.0",
            "description_tooltip": null,
            "_model_module": "@jupyter-widgets/controls",
            "layout": "IPY_MODEL_bd100dc693ea4996a661ce8e24f84522"
          }
        },
        "f715dcd28806412693d76f09a6d56877": {
          "model_module": "@jupyter-widgets/controls",
          "model_name": "ProgressStyleModel",
          "state": {
            "_view_name": "StyleView",
            "_model_name": "ProgressStyleModel",
            "description_width": "initial",
            "_view_module": "@jupyter-widgets/base",
            "_model_module_version": "1.5.0",
            "_view_count": null,
            "_view_module_version": "1.2.0",
            "bar_color": null,
            "_model_module": "@jupyter-widgets/controls"
          }
        },
        "a03ca7950c8d411bbf587030bef286a5": {
          "model_module": "@jupyter-widgets/base",
          "model_name": "LayoutModel",
          "state": {
            "_view_name": "LayoutView",
            "grid_template_rows": null,
            "right": null,
            "justify_content": null,
            "_view_module": "@jupyter-widgets/base",
            "overflow": null,
            "_model_module_version": "1.2.0",
            "_view_count": null,
            "flex_flow": null,
            "width": null,
            "min_width": null,
            "border": null,
            "align_items": null,
            "bottom": null,
            "_model_module": "@jupyter-widgets/base",
            "top": null,
            "grid_column": null,
            "overflow_y": null,
            "overflow_x": null,
            "grid_auto_flow": null,
            "grid_area": null,
            "grid_template_columns": null,
            "flex": null,
            "_model_name": "LayoutModel",
            "justify_items": null,
            "grid_row": null,
            "max_height": null,
            "align_content": null,
            "visibility": null,
            "align_self": null,
            "height": null,
            "min_height": null,
            "padding": null,
            "grid_auto_rows": null,
            "grid_gap": null,
            "max_width": null,
            "order": null,
            "_view_module_version": "1.2.0",
            "grid_template_areas": null,
            "object_position": null,
            "object_fit": null,
            "grid_auto_columns": null,
            "margin": null,
            "display": null,
            "left": null
          }
        },
        "92fff193bbd0426e94ca5ffb64e098e7": {
          "model_module": "@jupyter-widgets/controls",
          "model_name": "DescriptionStyleModel",
          "state": {
            "_view_name": "StyleView",
            "_model_name": "DescriptionStyleModel",
            "description_width": "",
            "_view_module": "@jupyter-widgets/base",
            "_model_module_version": "1.5.0",
            "_view_count": null,
            "_view_module_version": "1.2.0",
            "_model_module": "@jupyter-widgets/controls"
          }
        },
        "bd100dc693ea4996a661ce8e24f84522": {
          "model_module": "@jupyter-widgets/base",
          "model_name": "LayoutModel",
          "state": {
            "_view_name": "LayoutView",
            "grid_template_rows": null,
            "right": null,
            "justify_content": null,
            "_view_module": "@jupyter-widgets/base",
            "overflow": null,
            "_model_module_version": "1.2.0",
            "_view_count": null,
            "flex_flow": null,
            "width": null,
            "min_width": null,
            "border": null,
            "align_items": null,
            "bottom": null,
            "_model_module": "@jupyter-widgets/base",
            "top": null,
            "grid_column": null,
            "overflow_y": null,
            "overflow_x": null,
            "grid_auto_flow": null,
            "grid_area": null,
            "grid_template_columns": null,
            "flex": null,
            "_model_name": "LayoutModel",
            "justify_items": null,
            "grid_row": null,
            "max_height": null,
            "align_content": null,
            "visibility": null,
            "align_self": null,
            "height": null,
            "min_height": null,
            "padding": null,
            "grid_auto_rows": null,
            "grid_gap": null,
            "max_width": null,
            "order": null,
            "_view_module_version": "1.2.0",
            "grid_template_areas": null,
            "object_position": null,
            "object_fit": null,
            "grid_auto_columns": null,
            "margin": null,
            "display": null,
            "left": null
          }
        }
      }
    }
  },
  "cells": [
    {
      "cell_type": "markdown",
      "metadata": {
        "id": "view-in-github",
        "colab_type": "text"
      },
      "source": [
        "<a href=\"https://colab.research.google.com/github/taekjunkim/artiphysiology2020/blob/main/get_Alexnet_center_output.ipynb\" target=\"_parent\"><img src=\"https://colab.research.google.com/assets/colab-badge.svg\" alt=\"Open In Colab\"/></a>"
      ]
    },
    {
      "cell_type": "code",
      "metadata": {
        "id": "0q_CYjG-EzG3",
        "colab": {
          "base_uri": "https://localhost:8080/",
          "height": 386
        },
        "outputId": "10c1696b-95c6-4d97-841d-08886a7223db"
      },
      "source": [
        "## Mount google drive\n",
        "from google.colab import drive\n",
        "drive.mount('/content/gdrive')\n",
        "\n",
        "stim_path ='/content/gdrive/My Drive/UW_PasupathyLab/ShortTermWork/Artiphysiology2020/Animal_Icons/stims/'\n",
        "\n",
        "import os\n",
        "os.chdir(stim_path+'class01')\n",
        "!ls\n",
        "\n",
        "os.chdir('/content/')\n",
        "!pwd"
      ],
      "execution_count": null,
      "outputs": [
        {
          "output_type": "stream",
          "text": [
            "Mounted at /content/gdrive\n",
            "stim0100.png  stim0120.png  stim0140.png  stim0160.png\tstim0180.png\n",
            "stim0101.png  stim0121.png  stim0141.png  stim0161.png\tstim0181.png\n",
            "stim0102.png  stim0122.png  stim0142.png  stim0162.png\tstim0182.png\n",
            "stim0103.png  stim0123.png  stim0143.png  stim0163.png\tstim0183.png\n",
            "stim0104.png  stim0124.png  stim0144.png  stim0164.png\tstim0184.png\n",
            "stim0105.png  stim0125.png  stim0145.png  stim0165.png\tstim0185.png\n",
            "stim0106.png  stim0126.png  stim0146.png  stim0166.png\tstim0186.png\n",
            "stim0107.png  stim0127.png  stim0147.png  stim0167.png\tstim0187.png\n",
            "stim0108.png  stim0128.png  stim0148.png  stim0168.png\tstim0188.png\n",
            "stim0109.png  stim0129.png  stim0149.png  stim0169.png\tstim0189.png\n",
            "stim0110.png  stim0130.png  stim0150.png  stim0170.png\tstim0190.png\n",
            "stim0111.png  stim0131.png  stim0151.png  stim0171.png\tstim0191.png\n",
            "stim0112.png  stim0132.png  stim0152.png  stim0172.png\tstim0192.png\n",
            "stim0113.png  stim0133.png  stim0153.png  stim0173.png\tstim0193.png\n",
            "stim0114.png  stim0134.png  stim0154.png  stim0174.png\tstim0194.png\n",
            "stim0115.png  stim0135.png  stim0155.png  stim0175.png\tstim0195.png\n",
            "stim0116.png  stim0136.png  stim0156.png  stim0176.png\tstim0196.png\n",
            "stim0117.png  stim0137.png  stim0157.png  stim0177.png\tstim0197.png\n",
            "stim0118.png  stim0138.png  stim0158.png  stim0178.png\tstim0198.png\n",
            "stim0119.png  stim0139.png  stim0159.png  stim0179.png\tstim0199.png\n",
            "/content\n"
          ],
          "name": "stdout"
        }
      ]
    },
    {
      "cell_type": "code",
      "metadata": {
        "id": "_uCW8Jeu9NFc"
      },
      "source": [
        "import torch\n",
        "if torch.cuda.is_available():\n",
        "    device = torch.device(\"cuda\")\n",
        "    torch.cuda.get_device_name(0)    \n",
        "else:\n",
        "    device = torch.device(\"cpu\")\n",
        "\n",
        "import torchvision.models as models\n",
        "\n",
        "import numpy as np;\n",
        "\n",
        "import torch.nn as nn\n",
        "\n",
        "import torchvision.datasets as datasets\n",
        "import torchvision.transforms as transforms"
      ],
      "execution_count": null,
      "outputs": []
    },
    {
      "cell_type": "code",
      "metadata": {
        "id": "97ocgjB0Gvw8"
      },
      "source": [
        "# Comment 0: define transformation that you wish to apply on image\n",
        "data_transforms = transforms.Compose(\n",
        "    #Converts a PIL Image or numpy.ndarray (H x W x C) in the range [0, 255] \n",
        "    #to a torch.FloatTensor of shape (C x H x W) in the range [0.0, 1.0] \n",
        "    #if the PIL Image belongs to one of the modes (L, LA, P, I, F, RGB, YCbCr, RGBA, CMYK, 1)\n",
        "    # or if the numpy.ndarray has dtype = np.uint8\n",
        "    [transforms.ToTensor(),\n",
        "     #normalization of pre-trained networks:\n",
        "     #from docs:\n",
        "     #All pre-trained models expect input images normalized in the same way, \n",
        "     #i.e. mini-batches of 3-channel RGB images of shape (3 x H x W), where\n",
        "     #H and W are expected to be at least 224. The images have to be loaded \n",
        "     #in to a range of [0, 1] and then normalized using \n",
        "     #mean = [0.485, 0.456, 0.406] and std = [0.229, 0.224, 0.225]. \n",
        "     transforms.Normalize([0.485, 0.456, 0.406], \n",
        "                          [0.229, 0.224, 0.225])])#\n",
        "\n",
        "# Comment 1 : Load the datasets with ImageFolder\n",
        "image_datasets = datasets.ImageFolder(root= stim_path, transform=data_transforms)\n",
        "# Comment 2: Using the image datasets and the transforms, define the dataloaders\n",
        "dataloaders = torch.utils.data.DataLoader(image_datasets, batch_size=10, shuffle=False, num_workers=2);"
      ],
      "execution_count": null,
      "outputs": []
    },
    {
      "cell_type": "code",
      "metadata": {
        "id": "fcI7cftCMta6",
        "colab": {
          "base_uri": "https://localhost:8080/",
          "height": 34
        },
        "outputId": "322f0933-bbb2-457f-9e2e-6ac4ff8d3d89"
      },
      "source": [
        "print(image_datasets.imgs[2210])"
      ],
      "execution_count": null,
      "outputs": [
        {
          "output_type": "stream",
          "text": [
            "('/content/gdrive/My Drive/UW_PasupathyLab/ShortTermWork/Artiphysiology2020/Animal_Icons/stims/class22/stim2210.png', 22)\n"
          ],
          "name": "stdout"
        }
      ]
    },
    {
      "cell_type": "code",
      "metadata": {
        "id": "-3ybrT7mSkXT",
        "colab": {
          "base_uri": "https://localhost:8080/",
          "height": 35
        },
        "outputId": "570fb3dc-7ac9-45ee-a7bb-12f7d7e7b591"
      },
      "source": [
        "### verified that enumerate re-shuffles dataloader at every epochs, when shuffle=True\n",
        "\"\"\"\n",
        "for epochs in range(100):\n",
        "    for i, (image,labels) in enumerate(dataloaders):\n",
        "        print(i, labels);\n",
        "\"\"\""
      ],
      "execution_count": null,
      "outputs": [
        {
          "output_type": "execute_result",
          "data": {
            "application/vnd.google.colaboratory.intrinsic+json": {
              "type": "string"
            },
            "text/plain": [
              "'\\nfor epochs in range(100):\\n    for i, (image,labels) in enumerate(dataloaders):\\n        print(i, labels);\\n'"
            ]
          },
          "metadata": {
            "tags": []
          },
          "execution_count": 34
        }
      ]
    },
    {
      "cell_type": "code",
      "metadata": {
        "id": "hrgCmKRI9x_B",
        "colab": {
          "base_uri": "https://localhost:8080/",
          "height": 190,
          "referenced_widgets": [
            "ff9c5817fac34e7b96ecf43f747e3c3b",
            "611b205f6c654521a77a815cf69b16d0",
            "b0f8b9094e514f5495045fbd7f172dec",
            "06feef00c403491ebb295c57a6a11692",
            "f715dcd28806412693d76f09a6d56877",
            "a03ca7950c8d411bbf587030bef286a5",
            "92fff193bbd0426e94ca5ffb64e098e7",
            "bd100dc693ea4996a661ce8e24f84522"
          ]
        },
        "outputId": "fe35ffbb-52cc-48ad-9a2b-66e39ac2f326"
      },
      "source": [
        "import copy;\n",
        "\n",
        "alexnet = models.alexnet(pretrained=True);\n",
        "alexnet.eval();\n",
        "alexnet.to(device)\n",
        "\n",
        "layers_of_interest = [3,6,8,10]; # layers where RF size > 50 pix\n",
        "\n",
        "outputs = []; #simple function to store outputs\n",
        "def store_output(module,input,output):\n",
        "\n",
        "    cPos = int(np.ceil(np.shape(output)[2]/2)-1);\n",
        "    outputs.append(output[:,:,cPos,cPos]);\n",
        "\n",
        "\n",
        "for i,layer in enumerate(alexnet.features):\n",
        "    if i in layers_of_interest:\n",
        "        print(layer)\n",
        "        layer.register_forward_hook(store_output);\n",
        "    if isinstance(layer, nn.ReLU):\n",
        "        layer.inplace = False #set inplace rectification to False to get unrect responses        \n",
        "\n",
        "\"\"\"\n",
        "for name,m in alexnet.named_modules():\n",
        "    str_name = str(name).split('.');\n",
        "    if len(str_name)>1:\n",
        "        layerNum = int(str_name[1]);\n",
        "        if (layerNum in layers_of_interest) and (str_name[0]=='features'):\n",
        "            m.register_forward_hook(store_output);\n",
        "\"\"\""
      ],
      "execution_count": null,
      "outputs": [
        {
          "output_type": "stream",
          "text": [
            "Downloading: \"https://download.pytorch.org/models/alexnet-owt-4df8aa71.pth\" to /root/.cache/torch/checkpoints/alexnet-owt-4df8aa71.pth\n"
          ],
          "name": "stderr"
        },
        {
          "output_type": "display_data",
          "data": {
            "application/vnd.jupyter.widget-view+json": {
              "model_id": "ff9c5817fac34e7b96ecf43f747e3c3b",
              "version_minor": 0,
              "version_major": 2
            },
            "text/plain": [
              "HBox(children=(FloatProgress(value=0.0, max=244418560.0), HTML(value='')))"
            ]
          },
          "metadata": {
            "tags": []
          }
        },
        {
          "output_type": "stream",
          "text": [
            "\n",
            "Conv2d(64, 192, kernel_size=(5, 5), stride=(1, 1), padding=(2, 2))\n",
            "Conv2d(192, 384, kernel_size=(3, 3), stride=(1, 1), padding=(1, 1))\n",
            "Conv2d(384, 256, kernel_size=(3, 3), stride=(1, 1), padding=(1, 1))\n",
            "Conv2d(256, 256, kernel_size=(3, 3), stride=(1, 1), padding=(1, 1))\n"
          ],
          "name": "stdout"
        },
        {
          "output_type": "execute_result",
          "data": {
            "text/plain": [
              "\"\\nfor name,m in alexnet.named_modules():\\n    str_name = str(name).split('.');\\n    if len(str_name)>1:\\n        layerNum = int(str_name[1]);\\n        if (layerNum in layers_of_interest) and (str_name[0]=='features'):\\n            m.register_forward_hook(store_output);\\n\""
            ]
          },
          "metadata": {
            "tags": []
          },
          "execution_count": 5
        }
      ]
    },
    {
      "cell_type": "code",
      "metadata": {
        "id": "i6YREGO5i-DG",
        "colab": {
          "base_uri": "https://localhost:8080/",
          "height": 476
        },
        "outputId": "4448063e-fd1a-49c6-9b48-702a6e273aec"
      },
      "source": [
        "print(alexnet)"
      ],
      "execution_count": null,
      "outputs": [
        {
          "output_type": "stream",
          "text": [
            "AlexNet(\n",
            "  (features): Sequential(\n",
            "    (0): Conv2d(3, 64, kernel_size=(11, 11), stride=(4, 4), padding=(2, 2))\n",
            "    (1): ReLU()\n",
            "    (2): MaxPool2d(kernel_size=3, stride=2, padding=0, dilation=1, ceil_mode=False)\n",
            "    (3): Conv2d(64, 192, kernel_size=(5, 5), stride=(1, 1), padding=(2, 2))\n",
            "    (4): ReLU()\n",
            "    (5): MaxPool2d(kernel_size=3, stride=2, padding=0, dilation=1, ceil_mode=False)\n",
            "    (6): Conv2d(192, 384, kernel_size=(3, 3), stride=(1, 1), padding=(1, 1))\n",
            "    (7): ReLU()\n",
            "    (8): Conv2d(384, 256, kernel_size=(3, 3), stride=(1, 1), padding=(1, 1))\n",
            "    (9): ReLU()\n",
            "    (10): Conv2d(256, 256, kernel_size=(3, 3), stride=(1, 1), padding=(1, 1))\n",
            "    (11): ReLU()\n",
            "    (12): MaxPool2d(kernel_size=3, stride=2, padding=0, dilation=1, ceil_mode=False)\n",
            "  )\n",
            "  (avgpool): AdaptiveAvgPool2d(output_size=(6, 6))\n",
            "  (classifier): Sequential(\n",
            "    (0): Dropout(p=0.5, inplace=False)\n",
            "    (1): Linear(in_features=9216, out_features=4096, bias=True)\n",
            "    (2): ReLU(inplace=True)\n",
            "    (3): Dropout(p=0.5, inplace=False)\n",
            "    (4): Linear(in_features=4096, out_features=4096, bias=True)\n",
            "    (5): ReLU(inplace=True)\n",
            "    (6): Linear(in_features=4096, out_features=1000, bias=True)\n",
            "  )\n",
            ")\n"
          ],
          "name": "stdout"
        }
      ]
    },
    {
      "cell_type": "code",
      "metadata": {
        "id": "o2MGVyTf-ENE",
        "colab": {
          "base_uri": "https://localhost:8080/",
          "height": 1000
        },
        "outputId": "50081767-69e1-4658-a362-a8d1c30d49d7"
      },
      "source": [
        "alexnet_outputs = [];\n",
        "\n",
        "for i, (images,labels) in enumerate(dataloaders):\n",
        "\n",
        "    if torch.cuda.is_available():  \n",
        "        images = images.cuda();\n",
        "    #images = Variable(images.float());\n",
        "    #Test input\n",
        "    outputs = []; \n",
        "    out = alexnet(images)\n",
        "\n",
        "    print('batch(size 10) # '+str(i)+' was processed')\n",
        "\n",
        "    if torch.cuda.is_available():  \n",
        "        for j in range(len(outputs)):\n",
        "            outputs[j] = outputs[j].cpu();\n",
        "\n",
        "    if i==0:\n",
        "        alexnet_outputs = outputs;\n",
        "        for j in range(len(outputs)):\n",
        "            alexnet_outputs[j] = alexnet_outputs[j].detach().numpy();\n",
        "    else:\n",
        "        for j in range(len(outputs)):\n",
        "            alexnet_outputs[j] = np.append(alexnet_outputs[j],outputs[j].detach().numpy(),axis=0);\n"
      ],
      "execution_count": null,
      "outputs": [
        {
          "output_type": "stream",
          "text": [
            "batch(size 10) # 0 was processed\n",
            "batch(size 10) # 1 was processed\n",
            "batch(size 10) # 2 was processed\n",
            "batch(size 10) # 3 was processed\n",
            "batch(size 10) # 4 was processed\n",
            "batch(size 10) # 5 was processed\n",
            "batch(size 10) # 6 was processed\n",
            "batch(size 10) # 7 was processed\n",
            "batch(size 10) # 8 was processed\n",
            "batch(size 10) # 9 was processed\n",
            "batch(size 10) # 10 was processed\n",
            "batch(size 10) # 11 was processed\n",
            "batch(size 10) # 12 was processed\n",
            "batch(size 10) # 13 was processed\n",
            "batch(size 10) # 14 was processed\n",
            "batch(size 10) # 15 was processed\n",
            "batch(size 10) # 16 was processed\n",
            "batch(size 10) # 17 was processed\n",
            "batch(size 10) # 18 was processed\n",
            "batch(size 10) # 19 was processed\n",
            "batch(size 10) # 20 was processed\n",
            "batch(size 10) # 21 was processed\n",
            "batch(size 10) # 22 was processed\n",
            "batch(size 10) # 23 was processed\n",
            "batch(size 10) # 24 was processed\n",
            "batch(size 10) # 25 was processed\n",
            "batch(size 10) # 26 was processed\n",
            "batch(size 10) # 27 was processed\n",
            "batch(size 10) # 28 was processed\n",
            "batch(size 10) # 29 was processed\n",
            "batch(size 10) # 30 was processed\n",
            "batch(size 10) # 31 was processed\n",
            "batch(size 10) # 32 was processed\n",
            "batch(size 10) # 33 was processed\n",
            "batch(size 10) # 34 was processed\n",
            "batch(size 10) # 35 was processed\n",
            "batch(size 10) # 36 was processed\n",
            "batch(size 10) # 37 was processed\n",
            "batch(size 10) # 38 was processed\n",
            "batch(size 10) # 39 was processed\n",
            "batch(size 10) # 40 was processed\n",
            "batch(size 10) # 41 was processed\n",
            "batch(size 10) # 42 was processed\n",
            "batch(size 10) # 43 was processed\n",
            "batch(size 10) # 44 was processed\n",
            "batch(size 10) # 45 was processed\n",
            "batch(size 10) # 46 was processed\n",
            "batch(size 10) # 47 was processed\n",
            "batch(size 10) # 48 was processed\n",
            "batch(size 10) # 49 was processed\n",
            "batch(size 10) # 50 was processed\n",
            "batch(size 10) # 51 was processed\n",
            "batch(size 10) # 52 was processed\n",
            "batch(size 10) # 53 was processed\n",
            "batch(size 10) # 54 was processed\n",
            "batch(size 10) # 55 was processed\n",
            "batch(size 10) # 56 was processed\n",
            "batch(size 10) # 57 was processed\n",
            "batch(size 10) # 58 was processed\n",
            "batch(size 10) # 59 was processed\n",
            "batch(size 10) # 60 was processed\n",
            "batch(size 10) # 61 was processed\n",
            "batch(size 10) # 62 was processed\n",
            "batch(size 10) # 63 was processed\n",
            "batch(size 10) # 64 was processed\n",
            "batch(size 10) # 65 was processed\n",
            "batch(size 10) # 66 was processed\n",
            "batch(size 10) # 67 was processed\n",
            "batch(size 10) # 68 was processed\n",
            "batch(size 10) # 69 was processed\n",
            "batch(size 10) # 70 was processed\n",
            "batch(size 10) # 71 was processed\n",
            "batch(size 10) # 72 was processed\n",
            "batch(size 10) # 73 was processed\n",
            "batch(size 10) # 74 was processed\n",
            "batch(size 10) # 75 was processed\n",
            "batch(size 10) # 76 was processed\n",
            "batch(size 10) # 77 was processed\n",
            "batch(size 10) # 78 was processed\n",
            "batch(size 10) # 79 was processed\n",
            "batch(size 10) # 80 was processed\n",
            "batch(size 10) # 81 was processed\n",
            "batch(size 10) # 82 was processed\n",
            "batch(size 10) # 83 was processed\n",
            "batch(size 10) # 84 was processed\n",
            "batch(size 10) # 85 was processed\n",
            "batch(size 10) # 86 was processed\n",
            "batch(size 10) # 87 was processed\n",
            "batch(size 10) # 88 was processed\n",
            "batch(size 10) # 89 was processed\n",
            "batch(size 10) # 90 was processed\n",
            "batch(size 10) # 91 was processed\n",
            "batch(size 10) # 92 was processed\n",
            "batch(size 10) # 93 was processed\n",
            "batch(size 10) # 94 was processed\n",
            "batch(size 10) # 95 was processed\n",
            "batch(size 10) # 96 was processed\n",
            "batch(size 10) # 97 was processed\n",
            "batch(size 10) # 98 was processed\n",
            "batch(size 10) # 99 was processed\n",
            "batch(size 10) # 100 was processed\n",
            "batch(size 10) # 101 was processed\n",
            "batch(size 10) # 102 was processed\n",
            "batch(size 10) # 103 was processed\n",
            "batch(size 10) # 104 was processed\n",
            "batch(size 10) # 105 was processed\n",
            "batch(size 10) # 106 was processed\n",
            "batch(size 10) # 107 was processed\n",
            "batch(size 10) # 108 was processed\n",
            "batch(size 10) # 109 was processed\n",
            "batch(size 10) # 110 was processed\n",
            "batch(size 10) # 111 was processed\n",
            "batch(size 10) # 112 was processed\n",
            "batch(size 10) # 113 was processed\n",
            "batch(size 10) # 114 was processed\n",
            "batch(size 10) # 115 was processed\n",
            "batch(size 10) # 116 was processed\n",
            "batch(size 10) # 117 was processed\n",
            "batch(size 10) # 118 was processed\n",
            "batch(size 10) # 119 was processed\n",
            "batch(size 10) # 120 was processed\n",
            "batch(size 10) # 121 was processed\n",
            "batch(size 10) # 122 was processed\n",
            "batch(size 10) # 123 was processed\n",
            "batch(size 10) # 124 was processed\n",
            "batch(size 10) # 125 was processed\n",
            "batch(size 10) # 126 was processed\n",
            "batch(size 10) # 127 was processed\n",
            "batch(size 10) # 128 was processed\n",
            "batch(size 10) # 129 was processed\n",
            "batch(size 10) # 130 was processed\n",
            "batch(size 10) # 131 was processed\n",
            "batch(size 10) # 132 was processed\n",
            "batch(size 10) # 133 was processed\n",
            "batch(size 10) # 134 was processed\n",
            "batch(size 10) # 135 was processed\n",
            "batch(size 10) # 136 was processed\n",
            "batch(size 10) # 137 was processed\n",
            "batch(size 10) # 138 was processed\n",
            "batch(size 10) # 139 was processed\n",
            "batch(size 10) # 140 was processed\n",
            "batch(size 10) # 141 was processed\n",
            "batch(size 10) # 142 was processed\n",
            "batch(size 10) # 143 was processed\n",
            "batch(size 10) # 144 was processed\n",
            "batch(size 10) # 145 was processed\n",
            "batch(size 10) # 146 was processed\n",
            "batch(size 10) # 147 was processed\n",
            "batch(size 10) # 148 was processed\n",
            "batch(size 10) # 149 was processed\n",
            "batch(size 10) # 150 was processed\n",
            "batch(size 10) # 151 was processed\n",
            "batch(size 10) # 152 was processed\n",
            "batch(size 10) # 153 was processed\n",
            "batch(size 10) # 154 was processed\n",
            "batch(size 10) # 155 was processed\n",
            "batch(size 10) # 156 was processed\n",
            "batch(size 10) # 157 was processed\n",
            "batch(size 10) # 158 was processed\n",
            "batch(size 10) # 159 was processed\n",
            "batch(size 10) # 160 was processed\n",
            "batch(size 10) # 161 was processed\n",
            "batch(size 10) # 162 was processed\n",
            "batch(size 10) # 163 was processed\n",
            "batch(size 10) # 164 was processed\n",
            "batch(size 10) # 165 was processed\n",
            "batch(size 10) # 166 was processed\n",
            "batch(size 10) # 167 was processed\n",
            "batch(size 10) # 168 was processed\n",
            "batch(size 10) # 169 was processed\n",
            "batch(size 10) # 170 was processed\n",
            "batch(size 10) # 171 was processed\n",
            "batch(size 10) # 172 was processed\n",
            "batch(size 10) # 173 was processed\n",
            "batch(size 10) # 174 was processed\n",
            "batch(size 10) # 175 was processed\n",
            "batch(size 10) # 176 was processed\n",
            "batch(size 10) # 177 was processed\n",
            "batch(size 10) # 178 was processed\n",
            "batch(size 10) # 179 was processed\n",
            "batch(size 10) # 180 was processed\n",
            "batch(size 10) # 181 was processed\n",
            "batch(size 10) # 182 was processed\n",
            "batch(size 10) # 183 was processed\n",
            "batch(size 10) # 184 was processed\n",
            "batch(size 10) # 185 was processed\n",
            "batch(size 10) # 186 was processed\n",
            "batch(size 10) # 187 was processed\n",
            "batch(size 10) # 188 was processed\n",
            "batch(size 10) # 189 was processed\n",
            "batch(size 10) # 190 was processed\n",
            "batch(size 10) # 191 was processed\n",
            "batch(size 10) # 192 was processed\n",
            "batch(size 10) # 193 was processed\n",
            "batch(size 10) # 194 was processed\n",
            "batch(size 10) # 195 was processed\n",
            "batch(size 10) # 196 was processed\n",
            "batch(size 10) # 197 was processed\n",
            "batch(size 10) # 198 was processed\n",
            "batch(size 10) # 199 was processed\n",
            "batch(size 10) # 200 was processed\n",
            "batch(size 10) # 201 was processed\n",
            "batch(size 10) # 202 was processed\n",
            "batch(size 10) # 203 was processed\n",
            "batch(size 10) # 204 was processed\n",
            "batch(size 10) # 205 was processed\n",
            "batch(size 10) # 206 was processed\n",
            "batch(size 10) # 207 was processed\n",
            "batch(size 10) # 208 was processed\n",
            "batch(size 10) # 209 was processed\n",
            "batch(size 10) # 210 was processed\n",
            "batch(size 10) # 211 was processed\n",
            "batch(size 10) # 212 was processed\n",
            "batch(size 10) # 213 was processed\n",
            "batch(size 10) # 214 was processed\n",
            "batch(size 10) # 215 was processed\n",
            "batch(size 10) # 216 was processed\n",
            "batch(size 10) # 217 was processed\n",
            "batch(size 10) # 218 was processed\n",
            "batch(size 10) # 219 was processed\n",
            "batch(size 10) # 220 was processed\n",
            "batch(size 10) # 221 was processed\n"
          ],
          "name": "stdout"
        }
      ]
    },
    {
      "cell_type": "code",
      "metadata": {
        "id": "vvUGdXWuhcgF",
        "colab": {
          "base_uri": "https://localhost:8080/",
          "height": 86
        },
        "outputId": "0921b6a4-988e-4fa3-ac44-de49a7c246f6"
      },
      "source": [
        "print(np.shape(alexnet_outputs[0])) #conv2\n",
        "print(np.shape(alexnet_outputs[1])) #conv3\n",
        "print(np.shape(alexnet_outputs[2])) #conv4\n",
        "print(np.shape(alexnet_outputs[3])) #conv5"
      ],
      "execution_count": null,
      "outputs": [
        {
          "output_type": "stream",
          "text": [
            "(2211, 192)\n",
            "(2211, 384)\n",
            "(2211, 256)\n",
            "(2211, 256)\n"
          ],
          "name": "stdout"
        }
      ]
    },
    {
      "cell_type": "code",
      "metadata": {
        "id": "kQy54zXjppp-"
      },
      "source": [
        "os.chdir(stim_path)\n",
        "np.savez('alexnet_outputs.npz',conv2=alexnet_outputs[0],\n",
        "                               conv3=alexnet_outputs[1],\n",
        "                               conv4=alexnet_outputs[2],\n",
        "                               conv5=alexnet_outputs[3]);"
      ],
      "execution_count": null,
      "outputs": []
    },
    {
      "cell_type": "code",
      "metadata": {
        "id": "r48R4k_zynOB",
        "colab": {
          "base_uri": "https://localhost:8080/",
          "height": 282
        },
        "outputId": "3659ef1f-9965-4aa5-c593-765c7f6426d6"
      },
      "source": [
        "data = np.load('alexnet_outputs1.npz');\n",
        "\n",
        "import matplotlib.pyplot as plt;\n",
        "plt.plot(data['conv2'][:,1].clip(min=0))"
      ],
      "execution_count": null,
      "outputs": [
        {
          "output_type": "execute_result",
          "data": {
            "text/plain": [
              "[<matplotlib.lines.Line2D at 0x7f1144053198>]"
            ]
          },
          "metadata": {
            "tags": []
          },
          "execution_count": 20
        },
        {
          "output_type": "display_data",
          "data": {
            "image/png": "[encoded data removed]",
            "text/plain": [
              "<Figure size 432x288 with 1 Axes>"
            ]
          },
          "metadata": {
            "tags": [],
            "needs_background": "light"
          }
        }
      ]
    },
    {
      "cell_type": "code",
      "metadata": {
        "id": "s20Z9F6asLFN",
        "colab": {
          "base_uri": "https://localhost:8080/",
          "height": 282
        },
        "outputId": "b3c0c1db-73b8-466e-a190-d6d29b29b075"
      },
      "source": [
        "data = np.load('alexnet_outputs.npz');\n",
        "\n",
        "import matplotlib.pyplot as plt;\n",
        "plt.plot(data['conv2'][:,1])"
      ],
      "execution_count": null,
      "outputs": [
        {
          "output_type": "execute_result",
          "data": {
            "text/plain": [
              "[<matplotlib.lines.Line2D at 0x7f34e0af8d30>]"
            ]
          },
          "metadata": {
            "tags": []
          },
          "execution_count": 12
        },
        {
          "output_type": "display_data",
          "data": {
            "image/png": "[encoded data removed]",
            "text/plain": [
              "<Figure size 432x288 with 1 Axes>"
            ]
          },
          "metadata": {
            "tags": [],
            "needs_background": "light"
          }
        }
      ]
    },
    {
      "cell_type": "code",
      "metadata": {
        "id": "lBGTtY_NajTE",
        "colab": {
          "base_uri": "https://localhost:8080/",
          "height": 282
        },
        "outputId": "0d3d9f11-6c3c-4cc1-c3c2-3c6889b81ef3"
      },
      "source": [
        "import matplotlib.pyplot as plt;\n",
        "plt.plot(alexnet_outputs[3][:,1])"
      ],
      "execution_count": null,
      "outputs": [
        {
          "output_type": "execute_result",
          "data": {
            "text/plain": [
              "[<matplotlib.lines.Line2D at 0x7fce7693ff98>]"
            ]
          },
          "metadata": {
            "tags": []
          },
          "execution_count": 8
        },
        {
          "output_type": "display_data",
          "data": {
            "image/png": "[encoded data removed]",
            "text/plain": [
              "<Figure size 432x288 with 1 Axes>"
            ]
          },
          "metadata": {
            "tags": [],
            "needs_background": "light"
          }
        }
      ]
    }
  ]
}