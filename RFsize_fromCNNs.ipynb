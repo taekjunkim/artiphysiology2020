{
  "nbformat": 4,
  "nbformat_minor": 0,
  "metadata": {
    "colab": {
      "name": "RFsize_fromCNNs.ipynb",
      "provenance": [],
      "collapsed_sections": [],
      "authorship_tag": "ABX9TyM4r6GlpmoIo2+/r6/qxTgj",
      "include_colab_link": true
    },
    "kernelspec": {
      "name": "python3",
      "display_name": "Python 3"
    },
    "accelerator": "GPU"
  },
  "cells": [
    {
      "cell_type": "markdown",
      "metadata": {
        "id": "view-in-github",
        "colab_type": "text"
      },
      "source": [
        "<a href=\"https://colab.research.google.com/github/taekjunkim/artiphysiology2020/blob/main/RFsize_fromCNNs.ipynb\" target=\"_parent\"><img src=\"https://colab.research.google.com/assets/colab-badge.svg\" alt=\"Open In Colab\"/></a>"
      ]
    },
    {
      "cell_type": "code",
      "metadata": {
        "id": "tklGUoQo3irY",
        "colab": {
          "base_uri": "https://localhost:8080/",
          "height": 86
        },
        "outputId": "a6e170ca-c883-4b22-c86f-b6e608690d45"
      },
      "source": [
        "#package for calc rf on architecture\n",
        "!git clone https://github.com/jotaf98/easy-receptive-fields-pytorch.git\n",
        "import sys\n",
        "sys.path.append('/content/easy-receptive-fields-pytorch')\n",
        "from receptivefield import receptivefield\n",
        "\n",
        "import torch.nn as nn\n",
        "import torchvision.models as models\n",
        "\n",
        "import numpy as np;"
      ],
      "execution_count": null,
      "outputs": [
        {
          "output_type": "stream",
          "text": [
            "Cloning into 'easy-receptive-fields-pytorch'...\n",
            "remote: Enumerating objects: 24, done.\u001b[K\n",
            "remote: Total 24 (delta 0), reused 0 (delta 0), pack-reused 24\u001b[K\n",
            "Unpacking objects: 100% (24/24), done.\n"
          ],
          "name": "stdout"
        }
      ]
    },
    {
      "cell_type": "code",
      "metadata": {
        "id": "_FfriTSr3_Zz",
        "colab": {
          "base_uri": "https://localhost:8080/",
          "height": 102
        },
        "outputId": "f0e100ae-492c-4bdc-b626-37a035e8e3ab"
      },
      "source": [
        "alexnet = models.alexnet(pretrained=False);\n",
        "#print(alexnet);\n",
        "layers_of_interest = [0,3,6,8,10];\n",
        "\n",
        "for i in range(len(layers_of_interest)):\n",
        "    endLayer = layers_of_interest[i]\n",
        "    net = alexnet.features[:endLayer+1];\n",
        "    rfsize = receptivefield(net,(1,3,224,224)).rfsize;\n",
        "    outputsize = receptivefield(net,(1,3,224,224)).outputsize;    \n",
        "    stride = receptivefield(net,(1,3,224,224)).stride;        \n",
        "    print('Conv'+str(i+1)+': '+str(endLayer)+' --> RF size: '\n",
        "          +str(rfsize)+', '+str(net[-1].out_channels)+' units, Stride: '+str(stride));"
      ],
      "execution_count": null,
      "outputs": [
        {
          "output_type": "stream",
          "text": [
            "Conv1: 0 --> RF size: Size(w=11, h=11), 64 units, Output size: Size(w=55, h=55), Stride: Vector(x=4, y=4)\n",
            "Conv2: 3 --> RF size: Size(w=51, h=51), 192 units, Output size: Size(w=27, h=27), Stride: Vector(x=8, y=8)\n",
            "Conv3: 6 --> RF size: Size(w=99, h=99), 384 units, Output size: Size(w=13, h=13), Stride: Vector(x=16, y=16)\n",
            "Conv4: 8 --> RF size: Size(w=131, h=131), 256 units, Output size: Size(w=13, h=13), Stride: Vector(x=16, y=16)\n",
            "Conv5: 10 --> RF size: Size(w=163, h=163), 256 units, Output size: Size(w=13, h=13), Stride: Vector(x=16, y=16)\n"
          ],
          "name": "stdout"
        }
      ]
    },
    {
      "cell_type": "code",
      "metadata": {
        "id": "oqMj2Lh3LAov",
        "colab": {
          "base_uri": "https://localhost:8080/",
          "height": 238
        },
        "outputId": "83338b8c-43e5-4c98-bf58-50e6398bc44e"
      },
      "source": [
        "vgg16 = models.vgg16(pretrained=False);\n",
        "layers_of_interest = [0,2,5,7,10,12,14,17,19,21,24,26,28];\n",
        "\n",
        "for i in range(len(layers_of_interest)):\n",
        "    endLayer = layers_of_interest[i]\n",
        "    net = vgg16.features[:endLayer+1];\n",
        "    rfsize = receptivefield(net,(1,3,224,224)).rfsize;\n",
        "    outputsize = receptivefield(net,(1,3,224,224)).outputsize;    \n",
        "    stride = receptivefield(net,(1,3,224,224)).stride;        \n",
        "    print('Conv'+str(i+1)+': '+str(endLayer)+' --> RF size: '\n",
        "          +str(rfsize)+', '+str(net[-1].out_channels)+' units, Stride: '+str(stride));"
      ],
      "execution_count": null,
      "outputs": [
        {
          "output_type": "stream",
          "text": [
            "Conv1: 0 --> RF size: Size(w=3, h=3), 64 units, Output size: Size(w=224, h=224), Stride: Vector(x=1, y=1)\n",
            "Conv2: 2 --> RF size: Size(w=5, h=5), 64 units, Output size: Size(w=224, h=224), Stride: Vector(x=1, y=1)\n",
            "Conv3: 5 --> RF size: Size(w=10, h=10), 128 units, Output size: Size(w=112, h=112), Stride: Vector(x=2, y=2)\n",
            "Conv4: 7 --> RF size: Size(w=14, h=14), 128 units, Output size: Size(w=112, h=112), Stride: Vector(x=2, y=2)\n",
            "Conv5: 10 --> RF size: Size(w=24, h=24), 256 units, Output size: Size(w=56, h=56), Stride: Vector(x=4, y=4)\n",
            "Conv6: 12 --> RF size: Size(w=32, h=32), 256 units, Output size: Size(w=56, h=56), Stride: Vector(x=4, y=4)\n",
            "Conv7: 14 --> RF size: Size(w=40, h=40), 256 units, Output size: Size(w=56, h=56), Stride: Vector(x=4, y=4)\n",
            "Conv8: 17 --> RF size: Size(w=60, h=60), 512 units, Output size: Size(w=28, h=28), Stride: Vector(x=8, y=8)\n",
            "Conv9: 19 --> RF size: Size(w=76, h=76), 512 units, Output size: Size(w=28, h=28), Stride: Vector(x=8, y=8)\n",
            "Conv10: 21 --> RF size: Size(w=92, h=92), 512 units, Output size: Size(w=28, h=28), Stride: Vector(x=8, y=8)\n",
            "Conv11: 24 --> RF size: Size(w=132, h=132), 512 units, Output size: Size(w=14, h=14), Stride: Vector(x=16, y=16)\n",
            "Conv12: 26 --> RF size: Size(w=164, h=164), 512 units, Output size: Size(w=14, h=14), Stride: Vector(x=16, y=16)\n",
            "Conv13: 28 --> RF size: Size(w=196, h=196), 512 units, Output size: Size(w=14, h=14), Stride: Vector(x=16, y=16)\n"
          ],
          "name": "stdout"
        }
      ]
    },
    {
      "cell_type": "code",
      "metadata": {
        "id": "C_NA11JYRXVL",
        "colab": {
          "base_uri": "https://localhost:8080/",
          "height": 1000
        },
        "outputId": "55d35742-01fe-4fc6-efb0-406afac59387"
      },
      "source": [
        "resnet50 = models.resnet50(pretrained=False);\n",
        "#print(resnet50)\n",
        "\n",
        "class MyNet(nn.Module):\n",
        "    def __init__(self,original_model,endLayer=19):\n",
        "        super(MyNet,self).__init__();\n",
        "\n",
        "        stages =  list(original_model.children())[:4] + \\\n",
        "                  list(original_model.layer1) + \\\n",
        "                  list(original_model.layer2) + \\\n",
        "                  list(original_model.layer3) + \\\n",
        "                  list(original_model.layer4);\n",
        "\n",
        "        self.features = nn.Sequential(*stages[:endLayer+1]);\n",
        "\n",
        "    def forward(self,x):\n",
        "        x = self.features(x);\n",
        "        self.out_channels = np.shape(x)[1]\n",
        "        return x;\n",
        "\n",
        "MyResnet = MyNet(resnet50);\n",
        "MyResnet"
      ],
      "execution_count": null,
      "outputs": [
        {
          "output_type": "execute_result",
          "data": {
            "text/plain": [
              "MyNet(\n",
              "  (features): Sequential(\n",
              "    (0): Conv2d(3, 64, kernel_size=(7, 7), stride=(2, 2), padding=(3, 3), bias=False)\n",
              "    (1): BatchNorm2d(64, eps=1e-05, momentum=0.1, affine=True, track_running_stats=True)\n",
              "    (2): ReLU(inplace=True)\n",
              "    (3): MaxPool2d(kernel_size=3, stride=2, padding=1, dilation=1, ceil_mode=False)\n",
              "    (4): Bottleneck(\n",
              "      (conv1): Conv2d(64, 64, kernel_size=(1, 1), stride=(1, 1), bias=False)\n",
              "      (bn1): BatchNorm2d(64, eps=1e-05, momentum=0.1, affine=True, track_running_stats=True)\n",
              "      (conv2): Conv2d(64, 64, kernel_size=(3, 3), stride=(1, 1), padding=(1, 1), bias=False)\n",
              "      (bn2): BatchNorm2d(64, eps=1e-05, momentum=0.1, affine=True, track_running_stats=True)\n",
              "      (conv3): Conv2d(64, 256, kernel_size=(1, 1), stride=(1, 1), bias=False)\n",
              "      (bn3): BatchNorm2d(256, eps=1e-05, momentum=0.1, affine=True, track_running_stats=True)\n",
              "      (relu): ReLU(inplace=True)\n",
              "      (downsample): Sequential(\n",
              "        (0): Conv2d(64, 256, kernel_size=(1, 1), stride=(1, 1), bias=False)\n",
              "        (1): BatchNorm2d(256, eps=1e-05, momentum=0.1, affine=True, track_running_stats=True)\n",
              "      )\n",
              "    )\n",
              "    (5): Bottleneck(\n",
              "      (conv1): Conv2d(256, 64, kernel_size=(1, 1), stride=(1, 1), bias=False)\n",
              "      (bn1): BatchNorm2d(64, eps=1e-05, momentum=0.1, affine=True, track_running_stats=True)\n",
              "      (conv2): Conv2d(64, 64, kernel_size=(3, 3), stride=(1, 1), padding=(1, 1), bias=False)\n",
              "      (bn2): BatchNorm2d(64, eps=1e-05, momentum=0.1, affine=True, track_running_stats=True)\n",
              "      (conv3): Conv2d(64, 256, kernel_size=(1, 1), stride=(1, 1), bias=False)\n",
              "      (bn3): BatchNorm2d(256, eps=1e-05, momentum=0.1, affine=True, track_running_stats=True)\n",
              "      (relu): ReLU(inplace=True)\n",
              "    )\n",
              "    (6): Bottleneck(\n",
              "      (conv1): Conv2d(256, 64, kernel_size=(1, 1), stride=(1, 1), bias=False)\n",
              "      (bn1): BatchNorm2d(64, eps=1e-05, momentum=0.1, affine=True, track_running_stats=True)\n",
              "      (conv2): Conv2d(64, 64, kernel_size=(3, 3), stride=(1, 1), padding=(1, 1), bias=False)\n",
              "      (bn2): BatchNorm2d(64, eps=1e-05, momentum=0.1, affine=True, track_running_stats=True)\n",
              "      (conv3): Conv2d(64, 256, kernel_size=(1, 1), stride=(1, 1), bias=False)\n",
              "      (bn3): BatchNorm2d(256, eps=1e-05, momentum=0.1, affine=True, track_running_stats=True)\n",
              "      (relu): ReLU(inplace=True)\n",
              "    )\n",
              "    (7): Bottleneck(\n",
              "      (conv1): Conv2d(256, 128, kernel_size=(1, 1), stride=(1, 1), bias=False)\n",
              "      (bn1): BatchNorm2d(128, eps=1e-05, momentum=0.1, affine=True, track_running_stats=True)\n",
              "      (conv2): Conv2d(128, 128, kernel_size=(3, 3), stride=(2, 2), padding=(1, 1), bias=False)\n",
              "      (bn2): BatchNorm2d(128, eps=1e-05, momentum=0.1, affine=True, track_running_stats=True)\n",
              "      (conv3): Conv2d(128, 512, kernel_size=(1, 1), stride=(1, 1), bias=False)\n",
              "      (bn3): BatchNorm2d(512, eps=1e-05, momentum=0.1, affine=True, track_running_stats=True)\n",
              "      (relu): ReLU(inplace=True)\n",
              "      (downsample): Sequential(\n",
              "        (0): Conv2d(256, 512, kernel_size=(1, 1), stride=(2, 2), bias=False)\n",
              "        (1): BatchNorm2d(512, eps=1e-05, momentum=0.1, affine=True, track_running_stats=True)\n",
              "      )\n",
              "    )\n",
              "    (8): Bottleneck(\n",
              "      (conv1): Conv2d(512, 128, kernel_size=(1, 1), stride=(1, 1), bias=False)\n",
              "      (bn1): BatchNorm2d(128, eps=1e-05, momentum=0.1, affine=True, track_running_stats=True)\n",
              "      (conv2): Conv2d(128, 128, kernel_size=(3, 3), stride=(1, 1), padding=(1, 1), bias=False)\n",
              "      (bn2): BatchNorm2d(128, eps=1e-05, momentum=0.1, affine=True, track_running_stats=True)\n",
              "      (conv3): Conv2d(128, 512, kernel_size=(1, 1), stride=(1, 1), bias=False)\n",
              "      (bn3): BatchNorm2d(512, eps=1e-05, momentum=0.1, affine=True, track_running_stats=True)\n",
              "      (relu): ReLU(inplace=True)\n",
              "    )\n",
              "    (9): Bottleneck(\n",
              "      (conv1): Conv2d(512, 128, kernel_size=(1, 1), stride=(1, 1), bias=False)\n",
              "      (bn1): BatchNorm2d(128, eps=1e-05, momentum=0.1, affine=True, track_running_stats=True)\n",
              "      (conv2): Conv2d(128, 128, kernel_size=(3, 3), stride=(1, 1), padding=(1, 1), bias=False)\n",
              "      (bn2): BatchNorm2d(128, eps=1e-05, momentum=0.1, affine=True, track_running_stats=True)\n",
              "      (conv3): Conv2d(128, 512, kernel_size=(1, 1), stride=(1, 1), bias=False)\n",
              "      (bn3): BatchNorm2d(512, eps=1e-05, momentum=0.1, affine=True, track_running_stats=True)\n",
              "      (relu): ReLU(inplace=True)\n",
              "    )\n",
              "    (10): Bottleneck(\n",
              "      (conv1): Conv2d(512, 128, kernel_size=(1, 1), stride=(1, 1), bias=False)\n",
              "      (bn1): BatchNorm2d(128, eps=1e-05, momentum=0.1, affine=True, track_running_stats=True)\n",
              "      (conv2): Conv2d(128, 128, kernel_size=(3, 3), stride=(1, 1), padding=(1, 1), bias=False)\n",
              "      (bn2): BatchNorm2d(128, eps=1e-05, momentum=0.1, affine=True, track_running_stats=True)\n",
              "      (conv3): Conv2d(128, 512, kernel_size=(1, 1), stride=(1, 1), bias=False)\n",
              "      (bn3): BatchNorm2d(512, eps=1e-05, momentum=0.1, affine=True, track_running_stats=True)\n",
              "      (relu): ReLU(inplace=True)\n",
              "    )\n",
              "    (11): Bottleneck(\n",
              "      (conv1): Conv2d(512, 256, kernel_size=(1, 1), stride=(1, 1), bias=False)\n",
              "      (bn1): BatchNorm2d(256, eps=1e-05, momentum=0.1, affine=True, track_running_stats=True)\n",
              "      (conv2): Conv2d(256, 256, kernel_size=(3, 3), stride=(2, 2), padding=(1, 1), bias=False)\n",
              "      (bn2): BatchNorm2d(256, eps=1e-05, momentum=0.1, affine=True, track_running_stats=True)\n",
              "      (conv3): Conv2d(256, 1024, kernel_size=(1, 1), stride=(1, 1), bias=False)\n",
              "      (bn3): BatchNorm2d(1024, eps=1e-05, momentum=0.1, affine=True, track_running_stats=True)\n",
              "      (relu): ReLU(inplace=True)\n",
              "      (downsample): Sequential(\n",
              "        (0): Conv2d(512, 1024, kernel_size=(1, 1), stride=(2, 2), bias=False)\n",
              "        (1): BatchNorm2d(1024, eps=1e-05, momentum=0.1, affine=True, track_running_stats=True)\n",
              "      )\n",
              "    )\n",
              "    (12): Bottleneck(\n",
              "      (conv1): Conv2d(1024, 256, kernel_size=(1, 1), stride=(1, 1), bias=False)\n",
              "      (bn1): BatchNorm2d(256, eps=1e-05, momentum=0.1, affine=True, track_running_stats=True)\n",
              "      (conv2): Conv2d(256, 256, kernel_size=(3, 3), stride=(1, 1), padding=(1, 1), bias=False)\n",
              "      (bn2): BatchNorm2d(256, eps=1e-05, momentum=0.1, affine=True, track_running_stats=True)\n",
              "      (conv3): Conv2d(256, 1024, kernel_size=(1, 1), stride=(1, 1), bias=False)\n",
              "      (bn3): BatchNorm2d(1024, eps=1e-05, momentum=0.1, affine=True, track_running_stats=True)\n",
              "      (relu): ReLU(inplace=True)\n",
              "    )\n",
              "    (13): Bottleneck(\n",
              "      (conv1): Conv2d(1024, 256, kernel_size=(1, 1), stride=(1, 1), bias=False)\n",
              "      (bn1): BatchNorm2d(256, eps=1e-05, momentum=0.1, affine=True, track_running_stats=True)\n",
              "      (conv2): Conv2d(256, 256, kernel_size=(3, 3), stride=(1, 1), padding=(1, 1), bias=False)\n",
              "      (bn2): BatchNorm2d(256, eps=1e-05, momentum=0.1, affine=True, track_running_stats=True)\n",
              "      (conv3): Conv2d(256, 1024, kernel_size=(1, 1), stride=(1, 1), bias=False)\n",
              "      (bn3): BatchNorm2d(1024, eps=1e-05, momentum=0.1, affine=True, track_running_stats=True)\n",
              "      (relu): ReLU(inplace=True)\n",
              "    )\n",
              "    (14): Bottleneck(\n",
              "      (conv1): Conv2d(1024, 256, kernel_size=(1, 1), stride=(1, 1), bias=False)\n",
              "      (bn1): BatchNorm2d(256, eps=1e-05, momentum=0.1, affine=True, track_running_stats=True)\n",
              "      (conv2): Conv2d(256, 256, kernel_size=(3, 3), stride=(1, 1), padding=(1, 1), bias=False)\n",
              "      (bn2): BatchNorm2d(256, eps=1e-05, momentum=0.1, affine=True, track_running_stats=True)\n",
              "      (conv3): Conv2d(256, 1024, kernel_size=(1, 1), stride=(1, 1), bias=False)\n",
              "      (bn3): BatchNorm2d(1024, eps=1e-05, momentum=0.1, affine=True, track_running_stats=True)\n",
              "      (relu): ReLU(inplace=True)\n",
              "    )\n",
              "    (15): Bottleneck(\n",
              "      (conv1): Conv2d(1024, 256, kernel_size=(1, 1), stride=(1, 1), bias=False)\n",
              "      (bn1): BatchNorm2d(256, eps=1e-05, momentum=0.1, affine=True, track_running_stats=True)\n",
              "      (conv2): Conv2d(256, 256, kernel_size=(3, 3), stride=(1, 1), padding=(1, 1), bias=False)\n",
              "      (bn2): BatchNorm2d(256, eps=1e-05, momentum=0.1, affine=True, track_running_stats=True)\n",
              "      (conv3): Conv2d(256, 1024, kernel_size=(1, 1), stride=(1, 1), bias=False)\n",
              "      (bn3): BatchNorm2d(1024, eps=1e-05, momentum=0.1, affine=True, track_running_stats=True)\n",
              "      (relu): ReLU(inplace=True)\n",
              "    )\n",
              "    (16): Bottleneck(\n",
              "      (conv1): Conv2d(1024, 256, kernel_size=(1, 1), stride=(1, 1), bias=False)\n",
              "      (bn1): BatchNorm2d(256, eps=1e-05, momentum=0.1, affine=True, track_running_stats=True)\n",
              "      (conv2): Conv2d(256, 256, kernel_size=(3, 3), stride=(1, 1), padding=(1, 1), bias=False)\n",
              "      (bn2): BatchNorm2d(256, eps=1e-05, momentum=0.1, affine=True, track_running_stats=True)\n",
              "      (conv3): Conv2d(256, 1024, kernel_size=(1, 1), stride=(1, 1), bias=False)\n",
              "      (bn3): BatchNorm2d(1024, eps=1e-05, momentum=0.1, affine=True, track_running_stats=True)\n",
              "      (relu): ReLU(inplace=True)\n",
              "    )\n",
              "    (17): Bottleneck(\n",
              "      (conv1): Conv2d(1024, 512, kernel_size=(1, 1), stride=(1, 1), bias=False)\n",
              "      (bn1): BatchNorm2d(512, eps=1e-05, momentum=0.1, affine=True, track_running_stats=True)\n",
              "      (conv2): Conv2d(512, 512, kernel_size=(3, 3), stride=(2, 2), padding=(1, 1), bias=False)\n",
              "      (bn2): BatchNorm2d(512, eps=1e-05, momentum=0.1, affine=True, track_running_stats=True)\n",
              "      (conv3): Conv2d(512, 2048, kernel_size=(1, 1), stride=(1, 1), bias=False)\n",
              "      (bn3): BatchNorm2d(2048, eps=1e-05, momentum=0.1, affine=True, track_running_stats=True)\n",
              "      (relu): ReLU(inplace=True)\n",
              "      (downsample): Sequential(\n",
              "        (0): Conv2d(1024, 2048, kernel_size=(1, 1), stride=(2, 2), bias=False)\n",
              "        (1): BatchNorm2d(2048, eps=1e-05, momentum=0.1, affine=True, track_running_stats=True)\n",
              "      )\n",
              "    )\n",
              "    (18): Bottleneck(\n",
              "      (conv1): Conv2d(2048, 512, kernel_size=(1, 1), stride=(1, 1), bias=False)\n",
              "      (bn1): BatchNorm2d(512, eps=1e-05, momentum=0.1, affine=True, track_running_stats=True)\n",
              "      (conv2): Conv2d(512, 512, kernel_size=(3, 3), stride=(1, 1), padding=(1, 1), bias=False)\n",
              "      (bn2): BatchNorm2d(512, eps=1e-05, momentum=0.1, affine=True, track_running_stats=True)\n",
              "      (conv3): Conv2d(512, 2048, kernel_size=(1, 1), stride=(1, 1), bias=False)\n",
              "      (bn3): BatchNorm2d(2048, eps=1e-05, momentum=0.1, affine=True, track_running_stats=True)\n",
              "      (relu): ReLU(inplace=True)\n",
              "    )\n",
              "    (19): Bottleneck(\n",
              "      (conv1): Conv2d(2048, 512, kernel_size=(1, 1), stride=(1, 1), bias=False)\n",
              "      (bn1): BatchNorm2d(512, eps=1e-05, momentum=0.1, affine=True, track_running_stats=True)\n",
              "      (conv2): Conv2d(512, 512, kernel_size=(3, 3), stride=(1, 1), padding=(1, 1), bias=False)\n",
              "      (bn2): BatchNorm2d(512, eps=1e-05, momentum=0.1, affine=True, track_running_stats=True)\n",
              "      (conv3): Conv2d(512, 2048, kernel_size=(1, 1), stride=(1, 1), bias=False)\n",
              "      (bn3): BatchNorm2d(2048, eps=1e-05, momentum=0.1, affine=True, track_running_stats=True)\n",
              "      (relu): ReLU(inplace=True)\n",
              "    )\n",
              "  )\n",
              ")"
            ]
          },
          "metadata": {
            "tags": []
          },
          "execution_count": 3
        }
      ]
    },
    {
      "cell_type": "code",
      "metadata": {
        "id": "2CDJotoHJ7WN",
        "colab": {
          "base_uri": "https://localhost:8080/",
          "height": 311
        },
        "outputId": "908ae62c-8824-424c-e8f8-958a166a10ec"
      },
      "source": [
        "layers_of_interest = [0,4,5,6,7,8,9,10,11,12,13,14,15,16,17,18,19];\n",
        "\n",
        "for i in range(len(layers_of_interest)):\n",
        "    endLayer = layers_of_interest[i];\n",
        "    net = MyNet(resnet50,endLayer);\n",
        "\n",
        "    try:\n",
        "        rfsize = receptivefield(net,(1,3,224,224)).rfsize;\n",
        "        outputsize = receptivefield(net,(1,3,224,224)).outputsize;    \n",
        "        stride = receptivefield(net,(1,3,224,224)).stride;       \n",
        "    except:\n",
        "        rfsize = receptivefield(net,(1,3,500,500)).rfsize;\n",
        "        outputsize = receptivefield(net,(1,3,500,500)).outputsize;    \n",
        "        stride = receptivefield(net,(1,3,500,500)).stride;        \n",
        "\n",
        "    if i==0: \n",
        "        print('Conv1:'+str(endLayer)+': '+str(endLayer)+' --> RF size: '\n",
        "              +str(rfsize)+', '+str(net.out_channels)+' units, Stride: '+str(stride));      \n",
        "    elif net.out_channels==256:\n",
        "        print('layer1_'+str(endLayer-3)+': '+str(endLayer)+' --> RF size: '\n",
        "              +str(rfsize)+', '+str(net.out_channels)+' units, Stride: '+str(stride));      \n",
        "    elif net.out_channels==512:\n",
        "        print('layer2_'+str(endLayer-6)+': '+str(endLayer)+' --> RF size: '\n",
        "              +str(rfsize)+', '+str(net.out_channels)+' units, Stride: '+str(stride));      \n",
        "    elif net.out_channels==1024:\n",
        "        print('layer3_'+str(endLayer-10)+': '+str(endLayer)+' --> RF size: '\n",
        "              +str(rfsize)+', '+str(net.out_channels)+' units, Stride: '+str(stride));      \n",
        "    elif net.out_channels==2048:\n",
        "        print('layer3_'+str(endLayer-16)+': '+str(endLayer)+' --> RF size: '\n",
        "              +str(rfsize)+', '+str(net.out_channels)+' units, Stride: '+str(stride));      "
      ],
      "execution_count": null,
      "outputs": [
        {
          "output_type": "stream",
          "text": [
            "Conv1:0: 0 --> RF size: Size(w=7, h=7), 64 units, Stride: Vector(x=2, y=2)\n",
            "layer1_1: 4 --> RF size: Size(w=19, h=19), 256 units, Stride: Vector(x=4, y=4)\n",
            "layer1_2: 5 --> RF size: Size(w=27, h=27), 256 units, Stride: Vector(x=4, y=4)\n",
            "layer1_3: 6 --> RF size: Size(w=35, h=35), 256 units, Stride: Vector(x=4, y=4)\n",
            "layer2_1: 7 --> RF size: Size(w=43, h=43), 512 units, Stride: Vector(x=8, y=8)\n",
            "layer2_2: 8 --> RF size: Size(w=59, h=59), 512 units, Stride: Vector(x=8, y=8)\n",
            "layer2_3: 9 --> RF size: Size(w=75, h=75), 512 units, Stride: Vector(x=8, y=8)\n",
            "layer2_4: 10 --> RF size: Size(w=91, h=91), 512 units, Stride: Vector(x=8, y=8)\n",
            "layer3_1: 11 --> RF size: Size(w=107, h=107), 1024 units, Stride: Vector(x=16, y=16)\n",
            "layer3_2: 12 --> RF size: Size(w=139, h=139), 1024 units, Stride: Vector(x=16, y=16)\n",
            "layer3_3: 13 --> RF size: Size(w=171, h=171), 1024 units, Stride: Vector(x=16, y=16)\n",
            "layer3_4: 14 --> RF size: Size(w=198, h=198), 1024 units, Stride: Vector(x=11, y=11)\n",
            "layer3_5: 15 --> RF size: Size(w=235, h=235), 1024 units, Stride: Vector(x=16, y=16)\n",
            "layer3_6: 16 --> RF size: Size(w=267, h=267), 1024 units, Stride: Vector(x=16, y=16)\n",
            "layer3_1: 17 --> RF size: Size(w=299, h=299), 2048 units, Stride: Vector(x=32, y=32)\n",
            "layer3_2: 18 --> RF size: Size(w=363, h=363), 2048 units, Stride: Vector(x=32, y=32)\n",
            "layer3_3: 19 --> RF size: Size(w=427, h=427), 2048 units, Stride: Vector(x=32, y=32)\n"
          ],
          "name": "stdout"
        }
      ]
    }
  ]
}