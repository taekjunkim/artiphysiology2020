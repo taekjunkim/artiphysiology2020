{
  "nbformat": 4,
  "nbformat_minor": 0,
  "metadata": {
    "colab": {
      "name": "get_vgg16_center_output.ipynb",
      "provenance": [],
      "collapsed_sections": [],
      "authorship_tag": "ABX9TyP78a2e03aeN4vZXde/Ru2t",
      "include_colab_link": true
    },
    "kernelspec": {
      "name": "python3",
      "display_name": "Python 3"
    },
    "accelerator": "GPU"
  },
  "cells": [
    {
      "cell_type": "markdown",
      "metadata": {
        "id": "view-in-github",
        "colab_type": "text"
      },
      "source": [
        "<a href=\"https://colab.research.google.com/github/taekjunkim/artiphysiology2020/blob/main/get_vgg16_center_output.ipynb\" target=\"_parent\"><img src=\"https://colab.research.google.com/assets/colab-badge.svg\" alt=\"Open In Colab\"/></a>"
      ]
    },
    {
      "cell_type": "code",
      "metadata": {
        "id": "cNjQjeTSz-xi",
        "colab": {
          "base_uri": "https://localhost:8080/",
          "height": 123
        },
        "outputId": "1475401f-d3f0-45bf-8336-d9d755fcadde"
      },
      "source": [
        "## Mount google drive\n",
        "from google.colab import drive\n",
        "drive.mount('/content/gdrive')\n",
        "\n",
        "stim_path ='/content/gdrive/My Drive/UW_PasupathyLab/ShortTermWork/Artiphysiology2020/Animal_Icons/stims/'"
      ],
      "execution_count": null,
      "outputs": [
        {
          "output_type": "stream",
          "text": [
            "Go to this URL in a browser: https://accounts.google.com/o/oauth2/auth?client_id=947318989803-6bn6qk8qdgf4n4g3pfee6491hc0brc4i.apps.googleusercontent.com&redirect_uri=urn%3aietf%3awg%3aoauth%3a2.0%3aoob&response_type=code&scope=email%20https%3a%2f%2fwww.googleapis.com%2fauth%2fdocs.test%20https%3a%2f%2fwww.googleapis.com%2fauth%2fdrive%20https%3a%2f%2fwww.googleapis.com%2fauth%2fdrive.photos.readonly%20https%3a%2f%2fwww.googleapis.com%2fauth%2fpeopleapi.readonly\n",
            "\n",
            "Enter your authorization code:\n",
            "··········\n",
            "Mounted at /content/gdrive\n"
          ],
          "name": "stdout"
        }
      ]
    },
    {
      "cell_type": "code",
      "metadata": {
        "id": "vxIfoC640OCX"
      },
      "source": [
        "import torch\n",
        "if torch.cuda.is_available():\n",
        "    device = torch.device(\"cuda\")\n",
        "    torch.cuda.get_device_name(0)  \n",
        "else:\n",
        "    device = torch.device(\"cpu\")\n",
        "\n",
        "import torchvision.models as models\n",
        "import torch.nn as nn\n",
        "\n",
        "import numpy as np;\n",
        "\n",
        "import torchvision.datasets as datasets\n",
        "import torchvision.transforms as transforms"
      ],
      "execution_count": null,
      "outputs": []
    },
    {
      "cell_type": "code",
      "metadata": {
        "id": "-Vc7xcAY0Tdx"
      },
      "source": [
        "# Comment 0: define transformation that you wish to apply on image\n",
        "data_transforms = transforms.Compose(\n",
        "    #Converts a PIL Image or numpy.ndarray (H x W x C) in the range [0, 255] \n",
        "    #to a torch.FloatTensor of shape (C x H x W) in the range [0.0, 1.0] \n",
        "    #if the PIL Image belongs to one of the modes (L, LA, P, I, F, RGB, YCbCr, RGBA, CMYK, 1)\n",
        "    # or if the numpy.ndarray has dtype = np.uint8\n",
        "    [transforms.ToTensor(),\n",
        "     #normalization of pre-trained networks:\n",
        "     #from docs:\n",
        "     #All pre-trained models expect input images normalized in the same way, \n",
        "     #i.e. mini-batches of 3-channel RGB images of shape (3 x H x W), where\n",
        "     #H and W are expected to be at least 224. The images have to be loaded \n",
        "     #in to a range of [0, 1] and then normalized using \n",
        "     #mean = [0.485, 0.456, 0.406] and std = [0.229, 0.224, 0.225]. \n",
        "     transforms.Normalize([0.485, 0.456, 0.406], \n",
        "                          [0.229, 0.224, 0.225])])#\n",
        "\n",
        "# Comment 1 : Load the datasets with ImageFolder\n",
        "image_datasets = datasets.ImageFolder(root= stim_path, transform=data_transforms)\n",
        "# Comment 2: Using the image datasets and the transforms, define the dataloaders\n",
        "dataloaders = torch.utils.data.DataLoader(image_datasets, batch_size=10, shuffle=False, num_workers=2);"
      ],
      "execution_count": null,
      "outputs": []
    },
    {
      "cell_type": "code",
      "metadata": {
        "id": "imNVGLDDf-Wr",
        "colab": {
          "base_uri": "https://localhost:8080/",
          "height": 34
        },
        "outputId": "c04a6a7b-8582-4686-c37c-ac5dd1e8eff7"
      },
      "source": [
        "\"\"\" modification of Imagefolder to get image path\n",
        "class ImageFolderWithPaths(torchvision.datasets.ImageFolder):    \n",
        "    def __getitem__(self, index):\n",
        "        original_tuple = super(ImageFolderWithPaths, self).__getitem__(index)\n",
        "        path = self.imgs[index][0]\n",
        "        tuple_with_path = (original_tuple + (path,))\n",
        "        return tuple_with_path\n",
        "dataset = ImageFolderWithPaths(root=data_dir, transform=test_transformer)    \n",
        "\"\"\"    \n",
        "print(image_datasets.imgs[20])"
      ],
      "execution_count": null,
      "outputs": [
        {
          "output_type": "stream",
          "text": [
            "('/content/gdrive/My Drive/UW_PasupathyLab/ShortTermWork/Artiphysiology2020/Animal_Icons/stims/class00/stim0020.png', 0)\n"
          ],
          "name": "stdout"
        }
      ]
    },
    {
      "cell_type": "code",
      "metadata": {
        "id": "TIM6Mx280U_s",
        "colab": {
          "base_uri": "https://localhost:8080/",
          "height": 121
        },
        "outputId": "cab23a70-4574-4745-a843-9ad99a509bd4"
      },
      "source": [
        "vgg16 = models.vgg16(pretrained=True)\n",
        "vgg16.eval();\n",
        "vgg16.to(device)\n",
        "\n",
        "layers_of_interest = [17,19,21,24,26,28]; # layers where RF size > 50 pix\n",
        "\n",
        "outputs = []; #simple function to store outputs\n",
        "def store_output(module,input,output):\n",
        "    cPos = int(np.ceil(np.shape(output)[2]/2)-1);\n",
        "    outputs.append(output[:,:,cPos,cPos]);\n",
        "\n",
        "for i,layer in enumerate(vgg16.features):\n",
        "    if i in layers_of_interest:\n",
        "        print(layer)\n",
        "        layer.register_forward_hook(store_output);\n",
        "    if isinstance(layer, nn.ReLU):\n",
        "        layer.inplace = False #set inplace rectification to False to get unrect responses        \n",
        "\n"
      ],
      "execution_count": null,
      "outputs": [
        {
          "output_type": "stream",
          "text": [
            "Conv2d(256, 512, kernel_size=(3, 3), stride=(1, 1), padding=(1, 1))\n",
            "Conv2d(512, 512, kernel_size=(3, 3), stride=(1, 1), padding=(1, 1))\n",
            "Conv2d(512, 512, kernel_size=(3, 3), stride=(1, 1), padding=(1, 1))\n",
            "Conv2d(512, 512, kernel_size=(3, 3), stride=(1, 1), padding=(1, 1))\n",
            "Conv2d(512, 512, kernel_size=(3, 3), stride=(1, 1), padding=(1, 1))\n",
            "Conv2d(512, 512, kernel_size=(3, 3), stride=(1, 1), padding=(1, 1))\n"
          ],
          "name": "stdout"
        }
      ]
    },
    {
      "cell_type": "code",
      "metadata": {
        "id": "5UV5O_khWtrS",
        "colab": {
          "base_uri": "https://localhost:8080/",
          "height": 782
        },
        "outputId": "c78c9395-0216-4559-fa2c-463083797463"
      },
      "source": [
        "print(vgg16)"
      ],
      "execution_count": null,
      "outputs": [
        {
          "output_type": "stream",
          "text": [
            "VGG(\n",
            "  (features): Sequential(\n",
            "    (0): Conv2d(3, 64, kernel_size=(3, 3), stride=(1, 1), padding=(1, 1))\n",
            "    (1): ReLU()\n",
            "    (2): Conv2d(64, 64, kernel_size=(3, 3), stride=(1, 1), padding=(1, 1))\n",
            "    (3): ReLU()\n",
            "    (4): MaxPool2d(kernel_size=2, stride=2, padding=0, dilation=1, ceil_mode=False)\n",
            "    (5): Conv2d(64, 128, kernel_size=(3, 3), stride=(1, 1), padding=(1, 1))\n",
            "    (6): ReLU()\n",
            "    (7): Conv2d(128, 128, kernel_size=(3, 3), stride=(1, 1), padding=(1, 1))\n",
            "    (8): ReLU()\n",
            "    (9): MaxPool2d(kernel_size=2, stride=2, padding=0, dilation=1, ceil_mode=False)\n",
            "    (10): Conv2d(128, 256, kernel_size=(3, 3), stride=(1, 1), padding=(1, 1))\n",
            "    (11): ReLU()\n",
            "    (12): Conv2d(256, 256, kernel_size=(3, 3), stride=(1, 1), padding=(1, 1))\n",
            "    (13): ReLU()\n",
            "    (14): Conv2d(256, 256, kernel_size=(3, 3), stride=(1, 1), padding=(1, 1))\n",
            "    (15): ReLU()\n",
            "    (16): MaxPool2d(kernel_size=2, stride=2, padding=0, dilation=1, ceil_mode=False)\n",
            "    (17): Conv2d(256, 512, kernel_size=(3, 3), stride=(1, 1), padding=(1, 1))\n",
            "    (18): ReLU()\n",
            "    (19): Conv2d(512, 512, kernel_size=(3, 3), stride=(1, 1), padding=(1, 1))\n",
            "    (20): ReLU()\n",
            "    (21): Conv2d(512, 512, kernel_size=(3, 3), stride=(1, 1), padding=(1, 1))\n",
            "    (22): ReLU()\n",
            "    (23): MaxPool2d(kernel_size=2, stride=2, padding=0, dilation=1, ceil_mode=False)\n",
            "    (24): Conv2d(512, 512, kernel_size=(3, 3), stride=(1, 1), padding=(1, 1))\n",
            "    (25): ReLU()\n",
            "    (26): Conv2d(512, 512, kernel_size=(3, 3), stride=(1, 1), padding=(1, 1))\n",
            "    (27): ReLU()\n",
            "    (28): Conv2d(512, 512, kernel_size=(3, 3), stride=(1, 1), padding=(1, 1))\n",
            "    (29): ReLU()\n",
            "    (30): MaxPool2d(kernel_size=2, stride=2, padding=0, dilation=1, ceil_mode=False)\n",
            "  )\n",
            "  (avgpool): AdaptiveAvgPool2d(output_size=(7, 7))\n",
            "  (classifier): Sequential(\n",
            "    (0): Linear(in_features=25088, out_features=4096, bias=True)\n",
            "    (1): ReLU(inplace=True)\n",
            "    (2): Dropout(p=0.5, inplace=False)\n",
            "    (3): Linear(in_features=4096, out_features=4096, bias=True)\n",
            "    (4): ReLU(inplace=True)\n",
            "    (5): Dropout(p=0.5, inplace=False)\n",
            "    (6): Linear(in_features=4096, out_features=1000, bias=True)\n",
            "  )\n",
            ")\n"
          ],
          "name": "stdout"
        }
      ]
    },
    {
      "cell_type": "code",
      "metadata": {
        "id": "EgrBCIMx0-0w",
        "colab": {
          "base_uri": "https://localhost:8080/",
          "height": 1000
        },
        "outputId": "502ff860-f12d-4d0d-e0b9-797c065d2a12"
      },
      "source": [
        "vgg16_outputs = [];\n",
        "for i, (images,labels) in enumerate(dataloaders):\n",
        "\n",
        "    if torch.cuda.is_available():  \n",
        "        images = images.cuda();\n",
        "    #images = Variable(images.float());\n",
        "    #Test input\n",
        "    outputs = [];\n",
        "    out = vgg16(images)\n",
        "\n",
        "    print('batch(size 10)# '+str(i)+' was processed')\n",
        "\n",
        "    if torch.cuda.is_available():  \n",
        "        for j in range(len(outputs)):\n",
        "            outputs[j] = outputs[j].cpu();\n",
        "    if i==0:\n",
        "        vgg16_outputs = outputs;\n",
        "        for j in range(len(outputs)):\n",
        "            vgg16_outputs[j] = vgg16_outputs[j].detach().numpy();\n",
        "    else:\n",
        "        for j in range(len(outputs)):\n",
        "            vgg16_outputs[j] = np.append(vgg16_outputs[j],outputs[j].detach().numpy(),axis=0);\n"
      ],
      "execution_count": null,
      "outputs": [
        {
          "output_type": "stream",
          "text": [
            "batch(size 10)# 0 was processed\n",
            "batch(size 10)# 1 was processed\n",
            "batch(size 10)# 2 was processed\n",
            "batch(size 10)# 3 was processed\n",
            "batch(size 10)# 4 was processed\n",
            "batch(size 10)# 5 was processed\n",
            "batch(size 10)# 6 was processed\n",
            "batch(size 10)# 7 was processed\n",
            "batch(size 10)# 8 was processed\n",
            "batch(size 10)# 9 was processed\n",
            "batch(size 10)# 10 was processed\n",
            "batch(size 10)# 11 was processed\n",
            "batch(size 10)# 12 was processed\n",
            "batch(size 10)# 13 was processed\n",
            "batch(size 10)# 14 was processed\n",
            "batch(size 10)# 15 was processed\n",
            "batch(size 10)# 16 was processed\n",
            "batch(size 10)# 17 was processed\n",
            "batch(size 10)# 18 was processed\n",
            "batch(size 10)# 19 was processed\n",
            "batch(size 10)# 20 was processed\n",
            "batch(size 10)# 21 was processed\n",
            "batch(size 10)# 22 was processed\n",
            "batch(size 10)# 23 was processed\n",
            "batch(size 10)# 24 was processed\n",
            "batch(size 10)# 25 was processed\n",
            "batch(size 10)# 26 was processed\n",
            "batch(size 10)# 27 was processed\n",
            "batch(size 10)# 28 was processed\n",
            "batch(size 10)# 29 was processed\n",
            "batch(size 10)# 30 was processed\n",
            "batch(size 10)# 31 was processed\n",
            "batch(size 10)# 32 was processed\n",
            "batch(size 10)# 33 was processed\n",
            "batch(size 10)# 34 was processed\n",
            "batch(size 10)# 35 was processed\n",
            "batch(size 10)# 36 was processed\n",
            "batch(size 10)# 37 was processed\n",
            "batch(size 10)# 38 was processed\n",
            "batch(size 10)# 39 was processed\n",
            "batch(size 10)# 40 was processed\n",
            "batch(size 10)# 41 was processed\n",
            "batch(size 10)# 42 was processed\n",
            "batch(size 10)# 43 was processed\n",
            "batch(size 10)# 44 was processed\n",
            "batch(size 10)# 45 was processed\n",
            "batch(size 10)# 46 was processed\n",
            "batch(size 10)# 47 was processed\n",
            "batch(size 10)# 48 was processed\n",
            "batch(size 10)# 49 was processed\n",
            "batch(size 10)# 50 was processed\n",
            "batch(size 10)# 51 was processed\n",
            "batch(size 10)# 52 was processed\n",
            "batch(size 10)# 53 was processed\n",
            "batch(size 10)# 54 was processed\n",
            "batch(size 10)# 55 was processed\n",
            "batch(size 10)# 56 was processed\n",
            "batch(size 10)# 57 was processed\n",
            "batch(size 10)# 58 was processed\n",
            "batch(size 10)# 59 was processed\n",
            "batch(size 10)# 60 was processed\n",
            "batch(size 10)# 61 was processed\n",
            "batch(size 10)# 62 was processed\n",
            "batch(size 10)# 63 was processed\n",
            "batch(size 10)# 64 was processed\n",
            "batch(size 10)# 65 was processed\n",
            "batch(size 10)# 66 was processed\n",
            "batch(size 10)# 67 was processed\n",
            "batch(size 10)# 68 was processed\n",
            "batch(size 10)# 69 was processed\n",
            "batch(size 10)# 70 was processed\n",
            "batch(size 10)# 71 was processed\n",
            "batch(size 10)# 72 was processed\n",
            "batch(size 10)# 73 was processed\n",
            "batch(size 10)# 74 was processed\n",
            "batch(size 10)# 75 was processed\n",
            "batch(size 10)# 76 was processed\n",
            "batch(size 10)# 77 was processed\n",
            "batch(size 10)# 78 was processed\n",
            "batch(size 10)# 79 was processed\n",
            "batch(size 10)# 80 was processed\n",
            "batch(size 10)# 81 was processed\n",
            "batch(size 10)# 82 was processed\n",
            "batch(size 10)# 83 was processed\n",
            "batch(size 10)# 84 was processed\n",
            "batch(size 10)# 85 was processed\n",
            "batch(size 10)# 86 was processed\n",
            "batch(size 10)# 87 was processed\n",
            "batch(size 10)# 88 was processed\n",
            "batch(size 10)# 89 was processed\n",
            "batch(size 10)# 90 was processed\n",
            "batch(size 10)# 91 was processed\n",
            "batch(size 10)# 92 was processed\n",
            "batch(size 10)# 93 was processed\n",
            "batch(size 10)# 94 was processed\n",
            "batch(size 10)# 95 was processed\n",
            "batch(size 10)# 96 was processed\n",
            "batch(size 10)# 97 was processed\n",
            "batch(size 10)# 98 was processed\n",
            "batch(size 10)# 99 was processed\n",
            "batch(size 10)# 100 was processed\n",
            "batch(size 10)# 101 was processed\n",
            "batch(size 10)# 102 was processed\n",
            "batch(size 10)# 103 was processed\n",
            "batch(size 10)# 104 was processed\n",
            "batch(size 10)# 105 was processed\n",
            "batch(size 10)# 106 was processed\n",
            "batch(size 10)# 107 was processed\n",
            "batch(size 10)# 108 was processed\n",
            "batch(size 10)# 109 was processed\n",
            "batch(size 10)# 110 was processed\n",
            "batch(size 10)# 111 was processed\n",
            "batch(size 10)# 112 was processed\n",
            "batch(size 10)# 113 was processed\n",
            "batch(size 10)# 114 was processed\n",
            "batch(size 10)# 115 was processed\n",
            "batch(size 10)# 116 was processed\n",
            "batch(size 10)# 117 was processed\n",
            "batch(size 10)# 118 was processed\n",
            "batch(size 10)# 119 was processed\n",
            "batch(size 10)# 120 was processed\n",
            "batch(size 10)# 121 was processed\n",
            "batch(size 10)# 122 was processed\n",
            "batch(size 10)# 123 was processed\n",
            "batch(size 10)# 124 was processed\n",
            "batch(size 10)# 125 was processed\n",
            "batch(size 10)# 126 was processed\n",
            "batch(size 10)# 127 was processed\n",
            "batch(size 10)# 128 was processed\n",
            "batch(size 10)# 129 was processed\n",
            "batch(size 10)# 130 was processed\n",
            "batch(size 10)# 131 was processed\n",
            "batch(size 10)# 132 was processed\n",
            "batch(size 10)# 133 was processed\n",
            "batch(size 10)# 134 was processed\n",
            "batch(size 10)# 135 was processed\n",
            "batch(size 10)# 136 was processed\n",
            "batch(size 10)# 137 was processed\n",
            "batch(size 10)# 138 was processed\n",
            "batch(size 10)# 139 was processed\n",
            "batch(size 10)# 140 was processed\n",
            "batch(size 10)# 141 was processed\n",
            "batch(size 10)# 142 was processed\n",
            "batch(size 10)# 143 was processed\n",
            "batch(size 10)# 144 was processed\n",
            "batch(size 10)# 145 was processed\n",
            "batch(size 10)# 146 was processed\n",
            "batch(size 10)# 147 was processed\n",
            "batch(size 10)# 148 was processed\n",
            "batch(size 10)# 149 was processed\n",
            "batch(size 10)# 150 was processed\n",
            "batch(size 10)# 151 was processed\n",
            "batch(size 10)# 152 was processed\n",
            "batch(size 10)# 153 was processed\n",
            "batch(size 10)# 154 was processed\n",
            "batch(size 10)# 155 was processed\n",
            "batch(size 10)# 156 was processed\n",
            "batch(size 10)# 157 was processed\n",
            "batch(size 10)# 158 was processed\n",
            "batch(size 10)# 159 was processed\n",
            "batch(size 10)# 160 was processed\n",
            "batch(size 10)# 161 was processed\n",
            "batch(size 10)# 162 was processed\n",
            "batch(size 10)# 163 was processed\n",
            "batch(size 10)# 164 was processed\n",
            "batch(size 10)# 165 was processed\n",
            "batch(size 10)# 166 was processed\n",
            "batch(size 10)# 167 was processed\n",
            "batch(size 10)# 168 was processed\n",
            "batch(size 10)# 169 was processed\n",
            "batch(size 10)# 170 was processed\n",
            "batch(size 10)# 171 was processed\n",
            "batch(size 10)# 172 was processed\n",
            "batch(size 10)# 173 was processed\n",
            "batch(size 10)# 174 was processed\n",
            "batch(size 10)# 175 was processed\n",
            "batch(size 10)# 176 was processed\n",
            "batch(size 10)# 177 was processed\n",
            "batch(size 10)# 178 was processed\n",
            "batch(size 10)# 179 was processed\n",
            "batch(size 10)# 180 was processed\n",
            "batch(size 10)# 181 was processed\n",
            "batch(size 10)# 182 was processed\n",
            "batch(size 10)# 183 was processed\n",
            "batch(size 10)# 184 was processed\n",
            "batch(size 10)# 185 was processed\n",
            "batch(size 10)# 186 was processed\n",
            "batch(size 10)# 187 was processed\n",
            "batch(size 10)# 188 was processed\n",
            "batch(size 10)# 189 was processed\n",
            "batch(size 10)# 190 was processed\n",
            "batch(size 10)# 191 was processed\n",
            "batch(size 10)# 192 was processed\n",
            "batch(size 10)# 193 was processed\n",
            "batch(size 10)# 194 was processed\n",
            "batch(size 10)# 195 was processed\n",
            "batch(size 10)# 196 was processed\n",
            "batch(size 10)# 197 was processed\n",
            "batch(size 10)# 198 was processed\n",
            "batch(size 10)# 199 was processed\n",
            "batch(size 10)# 200 was processed\n",
            "batch(size 10)# 201 was processed\n",
            "batch(size 10)# 202 was processed\n",
            "batch(size 10)# 203 was processed\n",
            "batch(size 10)# 204 was processed\n",
            "batch(size 10)# 205 was processed\n",
            "batch(size 10)# 206 was processed\n",
            "batch(size 10)# 207 was processed\n",
            "batch(size 10)# 208 was processed\n",
            "batch(size 10)# 209 was processed\n",
            "batch(size 10)# 210 was processed\n",
            "batch(size 10)# 211 was processed\n",
            "batch(size 10)# 212 was processed\n",
            "batch(size 10)# 213 was processed\n",
            "batch(size 10)# 214 was processed\n",
            "batch(size 10)# 215 was processed\n",
            "batch(size 10)# 216 was processed\n",
            "batch(size 10)# 217 was processed\n",
            "batch(size 10)# 218 was processed\n",
            "batch(size 10)# 219 was processed\n",
            "batch(size 10)# 220 was processed\n",
            "batch(size 10)# 221 was processed\n"
          ],
          "name": "stdout"
        }
      ]
    },
    {
      "cell_type": "code",
      "metadata": {
        "id": "LAQa7psSCXLU",
        "colab": {
          "base_uri": "https://localhost:8080/",
          "height": 34
        },
        "outputId": "76347b5d-5b00-4d29-b987-71eecef29a64"
      },
      "source": [
        "len(vgg16_outputs)"
      ],
      "execution_count": null,
      "outputs": [
        {
          "output_type": "execute_result",
          "data": {
            "text/plain": [
              "6"
            ]
          },
          "metadata": {
            "tags": []
          },
          "execution_count": 10
        }
      ]
    },
    {
      "cell_type": "code",
      "metadata": {
        "id": "chi_3-h71Vry"
      },
      "source": [
        "import os;\n",
        "os.chdir(stim_path)\n",
        "np.savez('vgg16_outputs.npz',conv8=vgg16_outputs[0],\n",
        "                             conv9=vgg16_outputs[1],\n",
        "                             conv10=vgg16_outputs[2],\n",
        "                             conv11=vgg16_outputs[3],\n",
        "                             conv12=vgg16_outputs[4],\n",
        "                             conv13=vgg16_outputs[5]);"
      ],
      "execution_count": null,
      "outputs": []
    },
    {
      "cell_type": "code",
      "metadata": {
        "id": "ZUAFx7Z2xoG4",
        "colab": {
          "base_uri": "https://localhost:8080/",
          "height": 282
        },
        "outputId": "a36bcd9d-9f5f-4900-d06d-c48d0c2b9e42"
      },
      "source": [
        "data = np.load('vgg16_outputs.npz');\n",
        "\n",
        "import matplotlib.pyplot as plt;\n",
        "plt.plot(data['conv8'][:,1].clip(min=0))\n",
        "plt.plot(data['conv13'][:,11].clip(min=0))"
      ],
      "execution_count": null,
      "outputs": [
        {
          "output_type": "execute_result",
          "data": {
            "text/plain": [
              "[<matplotlib.lines.Line2D at 0x7fce82b67c88>]"
            ]
          },
          "metadata": {
            "tags": []
          },
          "execution_count": 9
        },
        {
          "output_type": "display_data",
          "data": {
            "image/png": "[encoded data removed]",
            "text/plain": [
              "<Figure size 432x288 with 1 Axes>"
            ]
          },
          "metadata": {
            "tags": [],
            "needs_background": "light"
          }
        }
      ]
    },
    {
      "cell_type": "code",
      "metadata": {
        "id": "QjyAqci7a6FP",
        "colab": {
          "base_uri": "https://localhost:8080/",
          "height": 34
        },
        "outputId": "5fd17899-12ba-4072-a5ca-35279cf547bb"
      },
      "source": [
        "np.mean(data['conv13'])"
      ],
      "execution_count": null,
      "outputs": [
        {
          "output_type": "execute_result",
          "data": {
            "text/plain": [
              "0.13483968"
            ]
          },
          "metadata": {
            "tags": []
          },
          "execution_count": 13
        }
      ]
    }
  ]
}